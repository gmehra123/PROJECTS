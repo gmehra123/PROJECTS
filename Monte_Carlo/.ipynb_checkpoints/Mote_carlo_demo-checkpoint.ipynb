{
 "cells": [
  {
   "cell_type": "code",
   "execution_count": 38,
   "metadata": {},
   "outputs": [],
   "source": [
    "import pandas as pd\n",
    "import matplotlib.pyplot as plt\n",
    "import xlwings as xw\n",
    "import numpy as np"
   ]
  },
  {
   "cell_type": "code",
   "execution_count": 39,
   "metadata": {},
   "outputs": [],
   "source": [
    "wb=xw.Book('Monte_carlo.xlsx')\n",
    "sheet=wb.sheets[0]\n",
    "sheet1=wb.sheets[1]"
   ]
  },
  {
   "cell_type": "code",
   "execution_count": 40,
   "metadata": {},
   "outputs": [],
   "source": [
    "n_sims=sheet.range('B2').value\n",
    "Sp_avg=sheet.range('B3').value\n",
    "Sp_std=sheet.range('B4').value\n",
    "COGS_avg=sheet.range('B6').value\n",
    "COGS_std=sheet.range('B7').value\n",
    "SG_A=sheet.range('B9').value\n",
    "Mode_units=sheet.range('B14').value\n",
    "Low_units=sheet.range('B15').value\n",
    "High_units=sheet.range('B16').value\n",
    "sims=int(n_sims)"
   ]
  },
  {
   "cell_type": "code",
   "execution_count": 41,
   "metadata": {},
   "outputs": [],
   "source": [
    "res=np.empty((sims))\n",
    "for i in range(sims):\n",
    "    sheet1.range('C8:C19').options(transpose=True).value=np.random.normal(Sp_avg,Sp_std,12)\n",
    "    sheet1.range('E8:E19').options(transpose=True).value=np.random.normal(COGS_avg,COGS_std,12)\n",
    "    sheet.range('B9').value=np.random.uniform(SG_A,0.05)\n",
    "    sheet1.range('B8:B19').options(transpose=True).value=np.random.triangular(Low_units,Mode_units,High_units)\n",
    "    res[i]=sheet1.range('I20').value"
   ]
  },
  {
   "cell_type": "code",
   "execution_count": 45,
   "metadata": {},
   "outputs": [
    {
     "data": {
      "image/png": "[encoded data removed]",
      "text/plain": [
       "<Figure size 720x360 with 1 Axes>"
      ]
     },
     "metadata": {
      "needs_background": "light"
     },
     "output_type": "display_data"
    }
   ],
   "source": [
    "fig=plt.figure(figsize=(10,5))\n",
    "plt.hist(res,bins=20)\n",
    "plt.xlabel('EBITDA',fontsize=14)\n",
    "plt.ylabel('Number of sims',fontsize=14)\n",
    "plt.title('Distribution of EBITDA',fontsize=14)\n",
    "plt.show()\n",
    "plot=sheet.pictures.add(fig,update=True,name='Distribution')\n",
    "plot.left=sheet.range('H3').left\n",
    "plot.top=sheet.range('H3').top"
   ]
  },
  {
   "cell_type": "code",
   "execution_count": 43,
   "metadata": {},
   "outputs": [],
   "source": [
    "sheet.range('K27').value=np.median(res)\n",
    "sheet.range('K28').value=np.mean(res)\n",
    "sheet.range('K29').value=np.std(res)"
   ]
  },
  {
   "cell_type": "code",
   "execution_count": null,
   "metadata": {},
   "outputs": [],
   "source": []
  }
 ],
 "metadata": {
  "kernelspec": {
   "display_name": "Python 3",
   "language": "python",
   "name": "python3"
  },
  "language_info": {
   "codemirror_mode": {
    "name": "ipython",
    "version": 3
   },
   "file_extension": ".py",
   "mimetype": "text/x-python",
   "name": "python",
   "nbconvert_exporter": "python",
   "pygments_lexer": "ipython3",
   "version": "3.6.12"
  }
 },
 "nbformat": 4,
 "nbformat_minor": 4
}
